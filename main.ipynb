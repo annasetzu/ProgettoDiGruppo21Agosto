{
 "cells": [
  {
   "cell_type": "code",
   "execution_count": 5,
   "id": "c034b434",
   "metadata": {},
   "outputs": [],
   "source": [
    "import pandas as pd\n",
    "from sklearn.preprocessing import StandardScaler, OneHotEncoder"
   ]
  },
  {
   "cell_type": "code",
   "execution_count": 2,
   "id": "f936c429",
   "metadata": {},
   "outputs": [
    {
     "name": "stdout",
     "output_type": "stream",
     "text": [
      "      StudentID  Age  Gender  Ethnicity  ParentalEducation  StudyTimeWeekly  \\\n",
      "0          1001   17       1          0                  2        19.833723   \n",
      "1          1002   18       0          0                  1        15.408756   \n",
      "2          1003   15       0          2                  3         4.210570   \n",
      "3          1004   17       1          0                  3        10.028829   \n",
      "4          1005   17       1          0                  2         4.672495   \n",
      "...         ...  ...     ...        ...                ...              ...   \n",
      "2387       3388   18       1          0                  3        10.680555   \n",
      "2388       3389   17       0          0                  1         7.583217   \n",
      "2389       3390   16       1          0                  2         6.805500   \n",
      "2390       3391   16       1          1                  0        12.416653   \n",
      "2391       3392   16       1          0                  2        17.819907   \n",
      "\n",
      "      Absences  Tutoring  ParentalSupport  Extracurricular  Sports  Music  \\\n",
      "0            7         1                2                0       0      1   \n",
      "1            0         0                1                0       0      0   \n",
      "2           26         0                2                0       0      0   \n",
      "3           14         0                3                1       0      0   \n",
      "4           17         1                3                0       0      0   \n",
      "...        ...       ...              ...              ...     ...    ...   \n",
      "2387         2         0                4                1       0      0   \n",
      "2388         4         1                4                0       1      0   \n",
      "2389        20         0                2                0       0      0   \n",
      "2390        17         0                2                0       1      1   \n",
      "2391        13         0                2                0       0      0   \n",
      "\n",
      "      Volunteering       GPA  GradeClass  \n",
      "0                0  2.929196         2.0  \n",
      "1                0  3.042915         1.0  \n",
      "2                0  0.112602         4.0  \n",
      "3                0  2.054218         3.0  \n",
      "4                0  1.288061         4.0  \n",
      "...            ...       ...         ...  \n",
      "2387             0  3.455509         0.0  \n",
      "2388             0  3.279150         4.0  \n",
      "2389             1  1.142333         2.0  \n",
      "2390             0  1.803297         1.0  \n",
      "2391             1  2.140014         1.0  \n",
      "\n",
      "[2392 rows x 15 columns]\n"
     ]
    }
   ],
   "source": [
    "df = pd.read_csv('Student_performance_data _.csv')\n",
    "\n",
    "print(df)"
   ]
  },
  {
   "cell_type": "markdown",
   "id": "aab84274",
   "metadata": {},
   "source": [
    "## Pulizia"
   ]
  },
  {
   "cell_type": "code",
   "execution_count": 6,
   "id": "2ba6c22e",
   "metadata": {},
   "outputs": [
    {
     "name": "stdout",
     "output_type": "stream",
     "text": [
      "StudentID            0\n",
      "Age                  0\n",
      "Gender               0\n",
      "Ethnicity            0\n",
      "ParentalEducation    0\n",
      "StudyTimeWeekly      0\n",
      "Absences             0\n",
      "Tutoring             0\n",
      "ParentalSupport      0\n",
      "Extracurricular      0\n",
      "Sports               0\n",
      "Music                0\n",
      "Volunteering         0\n",
      "GPA                  0\n",
      "GradeClass           0\n",
      "dtype: int64\n"
     ]
    }
   ],
   "source": [
    "# Rimuovo eventuali duplicati\n",
    "df = df.drop_duplicates()\n",
    "\n",
    "# Valori nulli\n",
    "print(df.isna().sum()) #non ce ne sono\n",
    "\n",
    "#variabili categoriche mettiamo minuscolo e tolgo eventuali spazi vuoti all'inizio e alla fine della riga\n",
    "cat_cols = df.select_dtypes(include=['object']).columns\n",
    "for c in cat_cols:\n",
    "    df[c] = df[c].str.strip().str.lower()\n",
    "\n",
    "# separo numeriche e categoriche dopo la pulizia\n",
    "num_cols=df.select_dtypes(include=['int64', 'float64']).columns\n",
    "cat_cols = df.select_dtypes(include=['object']).columns"
   ]
  },
  {
   "cell_type": "markdown",
   "id": "6982acd7",
   "metadata": {},
   "source": [
    "## Normalizzazione"
   ]
  },
  {
   "cell_type": "code",
   "execution_count": 8,
   "id": "72a1bcf7",
   "metadata": {},
   "outputs": [],
   "source": [
    "# Normalizzo variabili numeriche\n",
    "scaler = StandardScaler()\n",
    "df_norm = pd.DataFrame(scaler.fit_transform(df[num_cols]), columns=num_cols, index=df.index)"
   ]
  },
  {
   "cell_type": "markdown",
   "id": "86e9b885",
   "metadata": {},
   "source": [
    "## encoding"
   ]
  },
  {
   "cell_type": "code",
   "execution_count": 10,
   "id": "10ef5fbb",
   "metadata": {},
   "outputs": [],
   "source": [
    "encoder = OneHotEncoder(handle_unknown='ignore', sparse_output=False)\n",
    "enc = encoder.fit_transform(df[cat_cols])\n",
    "enc_cols = encoder.get_feature_names_out(cat_cols)\n",
    "df_enc = pd.DataFrame(enc,columns=enc_cols, index=df.index)"
   ]
  },
  {
   "cell_type": "code",
   "execution_count": 11,
   "id": "8714556f",
   "metadata": {},
   "outputs": [
    {
     "name": "stdout",
     "output_type": "stream",
     "text": [
      "Shape originale: (2392, 15)\n",
      "Shape trasformata: (2392, 15)\n",
      "   StudentID       Age    Gender  Ethnicity  ParentalEducation  \\\n",
      "0  -1.731327  0.472919  0.978492  -0.853391           0.253711   \n",
      "1  -1.729879  1.362944 -1.021981  -0.853391          -0.746087   \n",
      "2  -1.728430 -1.307132 -1.021981   1.091641           1.253509   \n",
      "3  -1.726982  0.472919  0.978492  -0.853391           1.253509   \n",
      "4  -1.725534  0.472919  0.978492  -0.853391           0.253711   \n",
      "\n",
      "   StudyTimeWeekly  Absences  Tutoring  ParentalSupport  Extracurricular  \\\n",
      "0         1.780336 -0.890822  1.522371        -0.108744        -0.788476   \n",
      "1         0.997376 -1.717694 -0.656870        -0.999551        -0.788476   \n",
      "2        -0.984045  1.353542 -0.656870        -0.108744        -0.788476   \n",
      "3         0.045445 -0.063951 -0.656870         0.782063         1.268269   \n",
      "4        -0.902311  0.290422  1.522371         0.782063        -0.788476   \n",
      "\n",
      "     Sports     Music  Volunteering       GPA  GradeClass  \n",
      "0 -0.660132  2.019544     -0.431866  1.118086   -0.797387  \n",
      "1 -0.660132 -0.495161     -0.431866  1.242374   -1.607990  \n",
      "2 -0.660132 -0.495161     -0.431866 -1.960277    0.823819  \n",
      "3 -0.660132 -0.495161     -0.431866  0.161790    0.013216  \n",
      "4 -0.660132 -0.495161     -0.431866 -0.675573    0.823819  \n"
     ]
    }
   ],
   "source": [
    "# unisco normalizzazione ed encoding\n",
    "df_tot = pd.concat([df_norm, df_enc], axis=1)\n",
    "print('Shape originale:', df.shape)\n",
    "print('Shape trasformata:', df_tot.shape)\n",
    "print(df_tot.head())"
   ]
  }
 ],
 "metadata": {
  "kernelspec": {
   "display_name": "Python 3",
   "language": "python",
   "name": "python3"
  },
  "language_info": {
   "codemirror_mode": {
    "name": "ipython",
    "version": 3
   },
   "file_extension": ".py",
   "mimetype": "text/x-python",
   "name": "python",
   "nbconvert_exporter": "python",
   "pygments_lexer": "ipython3",
   "version": "3.13.7"
  }
 },
 "nbformat": 4,
 "nbformat_minor": 5
}
